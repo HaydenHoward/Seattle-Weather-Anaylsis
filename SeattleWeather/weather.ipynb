{
 "cells": [
  {
   "cell_type": "code",
   "execution_count": 164,
   "metadata": {},
   "outputs": [],
   "source": [
    "import numpy as np\n",
    "import pandas as pd\n",
    "import matplotlib.pyplot as plt"
   ]
  },
  {
   "cell_type": "code",
   "execution_count": null,
   "metadata": {},
   "outputs": [],
   "source": [
    "from ast import parse\n",
    "from datetime import datetime\n",
    "from operator import index\n",
    "\n",
    "seattle_df = pd.read_csv('seattle-weather.csv', header=0, parse_dates=['date'], index_col=['date'])\n",
    "seattle_df.head()"
   ]
  },
  {
   "cell_type": "code",
   "execution_count": null,
   "metadata": {},
   "outputs": [],
   "source": [
    "seattle_df.dtypes"
   ]
  },
  {
   "cell_type": "code",
   "execution_count": null,
   "metadata": {},
   "outputs": [],
   "source": [
    "seattle_df.index"
   ]
  },
  {
   "cell_type": "markdown",
   "metadata": {},
   "source": [
    "What three month period has the most precipitation?\n",
    "\n",
    "Lets start by looking at the precipitation for each day over the course of 2012-2015."
   ]
  },
  {
   "cell_type": "code",
   "execution_count": null,
   "metadata": {},
   "outputs": [],
   "source": [
    "seattle_df.loc['2012']['precipitation'].plot()\n",
    "seattle_df.loc['2013']['precipitation'].plot()\n",
    "seattle_df.loc['2014']['precipitation'].plot()\n",
    "seattle_df.loc['2015']['precipitation'].plot()"
   ]
  },
  {
   "cell_type": "markdown",
   "metadata": {},
   "source": [
    "Looking at the graph we can see a pattern of high amounts of precipitation at the beginning and the end of each year. \n",
    "We will further examine the months September - May, except for the beggining of 2012 and the end of 2015 because of data restraints. "
   ]
  },
  {
   "cell_type": "code",
   "execution_count": null,
   "metadata": {},
   "outputs": [],
   "source": [
    "\n",
    "r1 = pd.date_range(start='2012-01-01', end='2012-05-31')\n",
    "r2 = pd.date_range(start='2012-09-01', end='2013-05-31')\n",
    "r3 = pd.date_range(start='2013-09-01', end='2014-05-31')\n",
    "r4 = pd.date_range(start='2014-09-01', end='2015-05-31')\n",
    "r5 = pd.date_range(start='2015-09-01', end='2015-12-31')\n",
    "\n",
    "seattle_df.loc[r1]['precipitation'].plot()\n",
    "seattle_df.loc[r2]['precipitation'].plot()\n",
    "seattle_df.loc[r3]['precipitation'].plot()\n",
    "seattle_df.loc[r4]['precipitation'].plot()\n",
    "seattle_df.loc[r5]['precipitation'].plot()"
   ]
  },
  {
   "cell_type": "markdown",
   "metadata": {},
   "source": [
    "After getting five different groups of nine months we can clearly see there is a spike or a high density from the 2nd, 3rd,4th, and 5th groups.\n",
    "We will break these down for each year. First will be the period from 2012-2013. After anaylazing the graph we will also take the mean precipitation of each three month period."
   ]
  },
  {
   "cell_type": "code",
   "execution_count": null,
   "metadata": {},
   "outputs": [],
   "source": [
    "# Group 1 / 2012-2013\n",
    "r6 = pd.date_range(start='2012-09-01', end='2012-11-30')\n",
    "r7 = pd.date_range(start='2012-12-01', end='2013-02-28')\n",
    "r8 = pd.date_range(start='2013-03-01', end='2013-05-31')\n",
    "\n",
    "seattle_df.loc[r6]['precipitation'].plot()\n",
    "seattle_df.loc[r7]['precipitation'].plot()\n",
    "seattle_df.loc[r8]['precipitation'].plot()"
   ]
  },
  {
   "cell_type": "code",
   "execution_count": null,
   "metadata": {},
   "outputs": [],
   "source": [
    "# seattle_df.loc[r6]['precipitation'].mean()\n",
    "# seattle_df.loc[r7]['precipitation'].mean()\n",
    "seattle_df.loc[r8]['precipitation'].mean()"
   ]
  },
  {
   "cell_type": "code",
   "execution_count": null,
   "metadata": {},
   "outputs": [],
   "source": [
    "# Group 2 / 2013-2014\n",
    "r9 = pd.date_range(start='2013-09-01', end='2013-11-30')\n",
    "r10 = pd.date_range(start='2013-12-01', end='2014-02-28')\n",
    "r11 = pd.date_range(start='2014-03-01', end='2014-05-31')\n",
    "\n",
    "seattle_df.loc[r9]['precipitation'].plot()\n",
    "seattle_df.loc[r10]['precipitation'].plot()\n",
    "seattle_df.loc[r11]['precipitation'].plot()"
   ]
  },
  {
   "cell_type": "code",
   "execution_count": null,
   "metadata": {},
   "outputs": [],
   "source": [
    "# seattle_df.loc[r9]['precipitation'].mean()\n",
    "# seattle_df.loc[r10]['precipitation'].mean()\n",
    "seattle_df.loc[r11]['precipitation'].mean()"
   ]
  },
  {
   "cell_type": "code",
   "execution_count": null,
   "metadata": {},
   "outputs": [],
   "source": [
    "# Group 3 / 2014-2015\n",
    "r12 = pd.date_range(start='2014-09-01', end='2014-11-30')\n",
    "r13 = pd.date_range(start='2014-12-01', end='2015-02-28')\n",
    "r14 = pd.date_range(start='2015-03-01', end='2015-05-31')\n",
    "\n",
    "seattle_df.loc[r12]['precipitation'].plot()\n",
    "seattle_df.loc[r13]['precipitation'].plot()\n",
    "seattle_df.loc[r14]['precipitation'].plot()"
   ]
  },
  {
   "cell_type": "code",
   "execution_count": null,
   "metadata": {},
   "outputs": [],
   "source": [
    "# seattle_df.loc[r12]['precipitation'].mean()\n",
    "# seattle_df.loc[r13]['precipitation'].mean()\n",
    "seattle_df.loc[r14]['precipitation'].mean()"
   ]
  },
  {
   "cell_type": "code",
   "execution_count": null,
   "metadata": {},
   "outputs": [],
   "source": [
    "# Group 4 / 2015\n",
    "r15 = pd.date_range(start='2015-09-01', end='2015-11-30')\n",
    "r16 = pd.date_range(start='2015-10-01', end='2015-12-31')\n",
    "\n",
    "seattle_df.loc[r15]['precipitation'].plot()\n",
    "seattle_df.loc[r16]['precipitation'].plot()"
   ]
  },
  {
   "cell_type": "code",
   "execution_count": null,
   "metadata": {},
   "outputs": [],
   "source": [
    "# seattle_df.loc[r15]['precipitation'].mean()\n",
    "seattle_df.loc[r16]['precipitation'].mean()"
   ]
  },
  {
   "cell_type": "markdown",
   "metadata": {},
   "source": [
    "After finding the mean precipitation\n",
    "\n",
    "Group 1 / 2012-2013:\n",
    "Septemember - November: 4.194\n",
    "December - February: 3.555\n",
    "March - May: 3.041\n",
    "\n",
    "Group 2 / 2013-2014:\n",
    "Septemember - November: 3.212\n",
    "December - February: 3.239\n",
    "March - May: 4.631\n",
    "\n",
    "Group 3 / 2014-2015:\n",
    "Septemember - November: 3.860\n",
    "December - February: 3.877\n",
    "March - May: 1.955\n",
    "\n",
    "Group 4 / 2015:\n",
    "Septemember - November: 3.913\n",
    "October - December: 6.733"
   ]
  },
  {
   "cell_type": "markdown",
   "metadata": {},
   "source": [
    "After conserdiation on the results from Group 4's October - December mean precipitation. I have decided to test this period of months for each group as well. I will also test the period of months February - April becuase of trends spotted from the graph."
   ]
  },
  {
   "cell_type": "code",
   "execution_count": null,
   "metadata": {},
   "outputs": [],
   "source": [
    "# Group 1\n",
    "r17 = pd.date_range(start='2012-10-01', end='2012-12-31')\n",
    "r18 = pd.date_range(start='2013-02-01', end='2013-04-30')\n",
    "\n",
    "seattle_df.loc[r17]['precipitation'].plot()\n",
    "seattle_df.loc[r18]['precipitation'].plot()\n",
    "\n",
    "# Group 2\n",
    "r19 = pd.date_range(start='2013-10-01', end='2013-12-31')\n",
    "r20 = pd.date_range(start='2014-02-01', end='2014-04-30')\n",
    "\n",
    "seattle_df.loc[r19]['precipitation'].plot()\n",
    "seattle_df.loc[r20]['precipitation'].plot()\n",
    "\n",
    "\n",
    "# Group 3\n",
    "r21 = pd.date_range(start='2014-10-01', end='2014-12-31')\n",
    "r22 = pd.date_range(start='2015-02-01', end='2015-04-30')\n",
    "\n",
    "seattle_df.loc[r21]['precipitation'].plot()\n",
    "seattle_df.loc[r22]['precipitation'].plot()"
   ]
  },
  {
   "cell_type": "code",
   "execution_count": null,
   "metadata": {},
   "outputs": [],
   "source": [
    "# seattle_df.loc[r17]['precipitation'].mean()\n",
    "# seattle_df.loc[r18]['precipitation'].mean()\n",
    "# seattle_df.loc[r19]['precipitation'].mean()\n",
    "# seattle_df.loc[r20]['precipitation'].mean()\n",
    "# seattle_df.loc[r21]['precipitation'].mean()\n",
    "seattle_df.loc[r22]['precipitation'].mean()"
   ]
  },
  {
   "cell_type": "markdown",
   "metadata": {},
   "source": [
    "Group 1\n",
    "October - December: 6.030\n",
    "February - April: 5.632\n",
    "\n",
    "Group 2\n",
    "October - December: 1.933\n",
    "February - April: 4.526\n",
    "\n",
    "Group 3\n",
    "October - December: 4.526\n",
    "February - April: 3.362"
   ]
  },
  {
   "cell_type": "markdown",
   "metadata": {},
   "source": [
    "What is the longest period of time that it goes without raining?\n",
    "Lets use groupby and cumsum to filter the data to find consecutive enteries of sun being the weather."
   ]
  },
  {
   "cell_type": "code",
   "execution_count": null,
   "metadata": {},
   "outputs": [],
   "source": [
    "# for k, v in seattle_df[seattle_df['weather'] == 'sun'].groupby((seattle_df['weather'] != 'sun').cumsum()):\n",
    "#     print(f'[group {k}')\n",
    "#     print(v)\n",
    "#     print('\\n')\n",
    "\n",
    "\n",
    "# seattle_df.loc['2012'][seattle_df['weather'] == 'sun'].groupby((seattle_df['weather'] != 'sun').cumsum()).describe()\n",
    "# seattle_df.loc['2013'][seattle_df['weather'] == 'sun'].groupby((seattle_df['weather'] != 'sun').cumsum()).describe()\n",
    "# seattle_df.loc['2014'][seattle_df['weather'] == 'sun'].groupby((seattle_df['weather'] != 'sun').cumsum()).describe()\n",
    "seattle_df.loc['2015'][seattle_df['weather'] == 'sun'].groupby((seattle_df['weather'] != 'sun').cumsum()).describe()\n"
   ]
  },
  {
   "cell_type": "markdown",
   "metadata": {},
   "source": [
    "Highest consecutive enteries of sun for each year\n",
    "2012:\n",
    "    18 group 158\n",
    "    10 group 170\n",
    "2013:\n",
    "    12 group 340\n",
    "    17 group 364\n",
    "2014:\n",
    "    17 group 517\n",
    "    14 group 539\n",
    "2015:\n",
    "    15 group 716\n",
    "    12 group 710"
   ]
  },
  {
   "cell_type": "markdown",
   "metadata": {},
   "source": [
    "The longest time it went without raining or another kind of precipitation was 18 days. This took place 12-08-22 to 12-09-08."
   ]
  },
  {
   "cell_type": "markdown",
   "metadata": {},
   "source": [
    "What is the average of max and min temperature does it rain the most?"
   ]
  }
 ],
 "metadata": {
  "kernelspec": {
   "display_name": "Python 3.10.2 64-bit",
   "language": "python",
   "name": "python3"
  },
  "language_info": {
   "codemirror_mode": {
    "name": "ipython",
    "version": 3
   },
   "file_extension": ".py",
   "mimetype": "text/x-python",
   "name": "python",
   "nbconvert_exporter": "python",
   "pygments_lexer": "ipython3",
   "version": "3.10.2"
  },
  "orig_nbformat": 4,
  "vscode": {
   "interpreter": {
    "hash": "f2d57725f03cac6708ed5b61cfedbd2b15628d482f4ba79d05094ebe131da5bc"
   }
  }
 },
 "nbformat": 4,
 "nbformat_minor": 2
}
